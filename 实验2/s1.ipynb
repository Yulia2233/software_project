{
  "cells": [
    {
      "cell_type": "code",
      "source": [
        "import torch\n",
        "\n",
        "# 可以是一个数\n",
        "x = torch.tensor(666)\n",
        "print(x)"
      ],
      "metadata": {
        "colab": {
          "base_uri": "https://localhost:8080/"
        },
        "id": "--LEE3Vbn2tj",
        "outputId": "f9471a36-e486-4f45-ede7-f8838b8b86a0"
      },
      "execution_count": 1,
      "outputs": [
        {
          "output_type": "stream",
          "name": "stdout",
          "text": [
            "tensor(666)\n"
          ]
        }
      ]
    },
    {
      "cell_type": "code",
      "source": [
        "# 可以是一维数组（向量）\n",
        "x = torch.tensor([1,2,3,4,5,6])\n",
        "print(x)"
      ],
      "metadata": {
        "colab": {
          "base_uri": "https://localhost:8080/"
        },
        "id": "Rxwx8y6tn8-2",
        "outputId": "fc7ddc97-ffe3-4a51-8e17-408f60970a77"
      },
      "execution_count": 3,
      "outputs": [
        {
          "output_type": "stream",
          "name": "stdout",
          "text": [
            "tensor([1, 2, 3, 4, 5, 6])\n"
          ]
        }
      ]
    },
    {
      "cell_type": "code",
      "source": [
        "# 可以是二维数组（矩阵）\n",
        "x = torch.ones(2,3)\n",
        "print(x)"
      ],
      "metadata": {
        "colab": {
          "base_uri": "https://localhost:8080/"
        },
        "id": "iceJ2cjTn-wx",
        "outputId": "60dc6d69-160b-4451-e473-5d976c3ded44"
      },
      "execution_count": 4,
      "outputs": [
        {
          "output_type": "stream",
          "name": "stdout",
          "text": [
            "tensor([[1., 1., 1.],\n",
            "        [1., 1., 1.]])\n"
          ]
        }
      ]
    },
    {
      "cell_type": "code",
      "source": [
        "# 可以是任意维度的数组（张量）\n",
        "x = torch.ones(2,3,4)\n",
        "print(x)"
      ],
      "metadata": {
        "colab": {
          "base_uri": "https://localhost:8080/"
        },
        "id": "p2zn2MTBn-zO",
        "outputId": "57d41b67-e5d0-4a3d-b7be-492cb167e4df"
      },
      "execution_count": 5,
      "outputs": [
        {
          "output_type": "stream",
          "name": "stdout",
          "text": [
            "tensor([[[1., 1., 1., 1.],\n",
            "         [1., 1., 1., 1.],\n",
            "         [1., 1., 1., 1.]],\n",
            "\n",
            "        [[1., 1., 1., 1.],\n",
            "         [1., 1., 1., 1.],\n",
            "         [1., 1., 1., 1.]]])\n"
          ]
        }
      ]
    },
    {
      "cell_type": "code",
      "source": [
        "# 创建一个空张量\n",
        "x = torch.empty(5,3)\n",
        "print(x)"
      ],
      "metadata": {
        "colab": {
          "base_uri": "https://localhost:8080/"
        },
        "id": "cXLXiDZNn-26",
        "outputId": "186945c6-29b3-48b9-d0aa-5237bb622b13"
      },
      "execution_count": 6,
      "outputs": [
        {
          "output_type": "stream",
          "name": "stdout",
          "text": [
            "tensor([[-1.1314e+35,  3.2139e-41,  0.0000e+00],\n",
            "        [ 1.4013e-45,  0.0000e+00,  0.0000e+00],\n",
            "        [ 1.5835e-43,  0.0000e+00,  7.8717e+19],\n",
            "        [ 3.2132e-41,  7.8607e+19,  3.2132e-41],\n",
            "        [ 1.4994e-43,  1.5414e-44,  1.4994e-43]])\n"
          ]
        }
      ]
    },
    {
      "cell_type": "code",
      "source": [
        "# 创建一个随机初始化的张量\n",
        "x = torch.rand(5,3)\n",
        "print(x)"
      ],
      "metadata": {
        "colab": {
          "base_uri": "https://localhost:8080/"
        },
        "id": "TvN9waSRoEAO",
        "outputId": "67133ab3-3351-40ec-c7e1-a035b9faf77e"
      },
      "execution_count": 7,
      "outputs": [
        {
          "output_type": "stream",
          "name": "stdout",
          "text": [
            "tensor([[0.6429, 0.3196, 0.5692],\n",
            "        [0.0741, 0.6581, 0.2179],\n",
            "        [0.0567, 0.9400, 0.2866],\n",
            "        [0.9293, 0.1498, 0.3862],\n",
            "        [0.1449, 0.9761, 0.9456]])\n"
          ]
        }
      ]
    },
    {
      "cell_type": "code",
      "source": [
        "# 创建一个全0的张量，里面的数据类型为 long\n",
        "x = torch.zeros(5,3,dtype=torch.long)\n",
        "print(x)"
      ],
      "metadata": {
        "colab": {
          "base_uri": "https://localhost:8080/"
        },
        "id": "F1wDVs80oEvb",
        "outputId": "c669c045-3128-4ed7-bd6e-bd41230ea310"
      },
      "execution_count": 8,
      "outputs": [
        {
          "output_type": "stream",
          "name": "stdout",
          "text": [
            "tensor([[0, 0, 0],\n",
            "        [0, 0, 0],\n",
            "        [0, 0, 0],\n",
            "        [0, 0, 0],\n",
            "        [0, 0, 0]])\n"
          ]
        }
      ]
    },
    {
      "cell_type": "code",
      "source": [
        "# 基于现有的tensor，创建一个新tensor，\n",
        "# 从而可以利用原有的tensor的dtype，device，size之类的属性信息\n",
        "y = x.new_ones(5,3)   #tensor new_* 方法，利用原来tensor的dtype，device\n",
        "print(y)"
      ],
      "metadata": {
        "colab": {
          "base_uri": "https://localhost:8080/"
        },
        "id": "0EwmX-36oGsD",
        "outputId": "d1afc220-42d2-4e28-bd2d-c89f40d0678c"
      },
      "execution_count": 9,
      "outputs": [
        {
          "output_type": "stream",
          "name": "stdout",
          "text": [
            "tensor([[1, 1, 1],\n",
            "        [1, 1, 1],\n",
            "        [1, 1, 1],\n",
            "        [1, 1, 1],\n",
            "        [1, 1, 1]])\n"
          ]
        }
      ]
    },
    {
      "cell_type": "code",
      "source": [
        "z = torch.randn_like(x, dtype=torch.float)    # 利用原来的tensor的大小，但是重新定义了dtype\n",
        "print(z)"
      ],
      "metadata": {
        "colab": {
          "base_uri": "https://localhost:8080/"
        },
        "id": "kEyoAuP5oIFt",
        "outputId": "6b904187-53e5-41e3-8dd2-e07297b049da"
      },
      "execution_count": 10,
      "outputs": [
        {
          "output_type": "stream",
          "name": "stdout",
          "text": [
            "tensor([[-0.4873,  0.3516,  0.9612],\n",
            "        [-0.6654,  0.8629, -0.7245],\n",
            "        [-1.1957, -0.3655, -0.6391],\n",
            "        [ 0.6184,  2.6459, -0.6791],\n",
            "        [ 0.5419, -0.2914,  1.1810]])\n"
          ]
        }
      ]
    },
    {
      "cell_type": "code",
      "source": [
        "# 创建一个 2x4 的tensor\n",
        "m = torch.Tensor([[2, 5, 3, 7],\n",
        "                  [4, 2, 1, 9]])\n",
        "\n",
        "print(m.size(0), m.size(1), m.size(), sep=' -- ')"
      ],
      "metadata": {
        "colab": {
          "base_uri": "https://localhost:8080/"
        },
        "id": "pi7o5_OuoIH0",
        "outputId": "28c96194-bc37-4c99-fc76-f013ccd23a4d"
      },
      "execution_count": 11,
      "outputs": [
        {
          "output_type": "stream",
          "name": "stdout",
          "text": [
            "2 -- 4 -- torch.Size([2, 4])\n"
          ]
        }
      ]
    },
    {
      "cell_type": "code",
      "source": [
        "# 返回 m 中元素的数量\n",
        "print(m.numel())"
      ],
      "metadata": {
        "colab": {
          "base_uri": "https://localhost:8080/"
        },
        "id": "8OlA8XkQoIJ_",
        "outputId": "d58606c4-11ca-40ac-9ce1-b86c3b7f3a6c"
      },
      "execution_count": 12,
      "outputs": [
        {
          "output_type": "stream",
          "name": "stdout",
          "text": [
            "8\n"
          ]
        }
      ]
    },
    {
      "cell_type": "code",
      "source": [
        "# 返回 第0行，第2列的数\n",
        "print(m[0][2])"
      ],
      "metadata": {
        "colab": {
          "base_uri": "https://localhost:8080/"
        },
        "id": "tZFPpfAQoMUx",
        "outputId": "1bd196b9-cffa-46ce-af3e-9e45625c5f6a"
      },
      "execution_count": 13,
      "outputs": [
        {
          "output_type": "stream",
          "name": "stdout",
          "text": [
            "tensor(3.)\n"
          ]
        }
      ]
    },
    {
      "cell_type": "code",
      "source": [
        "# 返回 第1列的全部元素\n",
        "print(m[:, 1])"
      ],
      "metadata": {
        "colab": {
          "base_uri": "https://localhost:8080/"
        },
        "id": "U8gsBLR2oMXI",
        "outputId": "d892a98c-5c01-4760-b178-286a84788917"
      },
      "execution_count": 14,
      "outputs": [
        {
          "output_type": "stream",
          "name": "stdout",
          "text": [
            "tensor([5., 2.])\n"
          ]
        }
      ]
    },
    {
      "cell_type": "markdown",
      "source": [],
      "metadata": {
        "id": "x1qdoOt9rJlC"
      }
    },
    {
      "cell_type": "code",
      "source": [
        "# 返回 第0行的全部元素\n",
        "print(m[0, :])"
      ],
      "metadata": {
        "colab": {
          "base_uri": "https://localhost:8080/"
        },
        "id": "oTurjwVboMZR",
        "outputId": "2ad31490-ee72-4399-e87b-83c1eec6e3d7"
      },
      "execution_count": 15,
      "outputs": [
        {
          "output_type": "stream",
          "name": "stdout",
          "text": [
            "tensor([2., 5., 3., 7.])\n"
          ]
        }
      ]
    },
    {
      "cell_type": "code",
      "source": [
        "# Create tensor of numbers from 1 to 5\n",
        "# 注意这里结果是1到4，没有5\n",
        "v = torch.arange(1, 5)\n",
        "print(v)"
      ],
      "metadata": {
        "colab": {
          "base_uri": "https://localhost:8080/"
        },
        "id": "5JY0pkcmoMbn",
        "outputId": "73b1adb6-f51f-4a8c-ceeb-6d929a97c717"
      },
      "execution_count": 16,
      "outputs": [
        {
          "output_type": "stream",
          "name": "stdout",
          "text": [
            "tensor([1, 2, 3, 4])\n"
          ]
        }
      ]
    },
    {
      "cell_type": "code",
      "source": [
        "# Scalar product\n",
        "m @ v.float()"
      ],
      "metadata": {
        "colab": {
          "base_uri": "https://localhost:8080/"
        },
        "id": "Est0fg0BoMeI",
        "outputId": "f374f84e-1d41-4558-e334-d7b0ff4b112c"
      },
      "execution_count": 26,
      "outputs": [
        {
          "output_type": "execute_result",
          "data": {
            "text/plain": [
              "tensor([49., 47.])"
            ]
          },
          "metadata": {},
          "execution_count": 26
        }
      ]
    },
    {
      "cell_type": "code",
      "source": [
        "# Calculated by 1*2 + 2*5 + 3*3 + 4*7\n",
        "m[[0], :] @ v.float()"
      ],
      "metadata": {
        "colab": {
          "base_uri": "https://localhost:8080/"
        },
        "id": "OgDRD9eDoMg4",
        "outputId": "a57a9078-4ea4-4bea-8562-a23cae940e61"
      },
      "execution_count": 27,
      "outputs": [
        {
          "output_type": "execute_result",
          "data": {
            "text/plain": [
              "tensor([49.])"
            ]
          },
          "metadata": {},
          "execution_count": 27
        }
      ]
    },
    {
      "cell_type": "code",
      "source": [
        "# Add a random tensor of size 2x4 to m\n",
        "m + torch.rand(2, 4)"
      ],
      "metadata": {
        "colab": {
          "base_uri": "https://localhost:8080/"
        },
        "id": "HReTpin7oXDC",
        "outputId": "fb4fc8e4-4aa4-459f-cd03-cbbb9ad5aa7c"
      },
      "execution_count": 19,
      "outputs": [
        {
          "output_type": "execute_result",
          "data": {
            "text/plain": [
              "tensor([[2.4351, 5.9721, 3.5852, 7.3047],\n",
              "        [4.0053, 2.4374, 1.8735, 9.4239]])"
            ]
          },
          "metadata": {},
          "execution_count": 19
        }
      ]
    },
    {
      "cell_type": "code",
      "source": [
        "# 转置，由 2x4 变为 4x2\n",
        "print(m.t())\n",
        "\n",
        "# 使用 transpose 也可以达到相同的效果，具体使用方法可以百度\n",
        "print(m.transpose(0, 1))"
      ],
      "metadata": {
        "colab": {
          "base_uri": "https://localhost:8080/"
        },
        "id": "fhk2PfgAoXFc",
        "outputId": "40fee851-7daf-41ec-ed7f-c42139e82ce4"
      },
      "execution_count": 20,
      "outputs": [
        {
          "output_type": "stream",
          "name": "stdout",
          "text": [
            "tensor([[2., 4.],\n",
            "        [5., 2.],\n",
            "        [3., 1.],\n",
            "        [7., 9.]])\n",
            "tensor([[2., 4.],\n",
            "        [5., 2.],\n",
            "        [3., 1.],\n",
            "        [7., 9.]])\n"
          ]
        }
      ]
    },
    {
      "cell_type": "code",
      "source": [
        "# returns a 1D tensor of steps equally spaced points between start=3, end=8 and steps=20\n",
        "torch.linspace(3, 8, 20)"
      ],
      "metadata": {
        "colab": {
          "base_uri": "https://localhost:8080/"
        },
        "id": "ogwHXIoboXH1",
        "outputId": "fdd9cbe3-500c-4fc8-cfe2-47f1dd8dd790"
      },
      "execution_count": 21,
      "outputs": [
        {
          "output_type": "execute_result",
          "data": {
            "text/plain": [
              "tensor([3.0000, 3.2632, 3.5263, 3.7895, 4.0526, 4.3158, 4.5789, 4.8421, 5.1053,\n",
              "        5.3684, 5.6316, 5.8947, 6.1579, 6.4211, 6.6842, 6.9474, 7.2105, 7.4737,\n",
              "        7.7368, 8.0000])"
            ]
          },
          "metadata": {},
          "execution_count": 21
        }
      ]
    },
    {
      "cell_type": "code",
      "source": [
        "from matplotlib import pyplot as plt\n",
        "\n",
        "# matlabplotlib 只能显示numpy类型的数据，下面展示了转换数据类型，然后显示\n",
        "# 注意 randn 是生成均值为 0， 方差为 1 的随机数\n",
        "# 下面是生成 1000 个随机数，并按照 100 个 bin 统计直方图\n",
        "plt.hist(torch.randn(1000).numpy(), 100);"
      ],
      "metadata": {
        "colab": {
          "base_uri": "https://localhost:8080/",
          "height": 430
        },
        "id": "mZoxqh7poXKN",
        "outputId": "ee50c1e2-8578-4896-ea07-746931ba3511"
      },
      "execution_count": 22,
      "outputs": [
        {
          "output_type": "display_data",
          "data": {
            "text/plain": [
              "<Figure size 640x480 with 1 Axes>"
            ],
            "image/png": "[encoded data removed]"
          },
          "metadata": {}
        }
      ]
    },
    {
      "cell_type": "code",
      "source": [
        "# 当数据非常非常多的时候，正态分布会体现的非常明显\n",
        "plt.hist(torch.randn(10**6).numpy(), 100);"
      ],
      "metadata": {
        "colab": {
          "base_uri": "https://localhost:8080/",
          "height": 430
        },
        "id": "ii0zsgi2oXMJ",
        "outputId": "140478ed-e120-4b2a-8b06-d104875268c4"
      },
      "execution_count": 23,
      "outputs": [
        {
          "output_type": "display_data",
          "data": {
            "text/plain": [
              "<Figure size 640x480 with 1 Axes>"
            ],
            "image/png": "[encoded data removed]"
          },
          "metadata": {}
        }
      ]
    },
    {
      "cell_type": "code",
      "source": [
        "# 创建两个 1x4 的tensor\n",
        "a = torch.Tensor([[1, 2, 3, 4]])\n",
        "b = torch.Tensor([[5, 6, 7, 8]])\n",
        "\n",
        "# 在 0 方向拼接 （即在 Y 方各上拼接）, 会得到 2x4 的矩阵\n",
        "print( torch.cat((a,b), 0))"
      ],
      "metadata": {
        "colab": {
          "base_uri": "https://localhost:8080/"
        },
        "id": "Ui6wXDmEoeMX",
        "outputId": "b90002fb-b89c-4709-e150-b3c5b81927b5"
      },
      "execution_count": 24,
      "outputs": [
        {
          "output_type": "stream",
          "name": "stdout",
          "text": [
            "tensor([[1., 2., 3., 4.],\n",
            "        [5., 6., 7., 8.]])\n"
          ]
        }
      ]
    },
    {
      "cell_type": "code",
      "source": [
        "# 在 1 方向拼接 （即在 X 方各上拼接）, 会得到 1x8 的矩阵\n",
        "print( torch.cat((a,b), 1))"
      ],
      "metadata": {
        "colab": {
          "base_uri": "https://localhost:8080/"
        },
        "id": "Ew7UujJ7oeP2",
        "outputId": "a28f9913-dc32-48ea-b392-63ee236a4d34"
      },
      "execution_count": 25,
      "outputs": [
        {
          "output_type": "stream",
          "name": "stdout",
          "text": [
            "tensor([[1., 2., 3., 4., 5., 6., 7., 8.]])\n"
          ]
        }
      ]
    }
  ],
  "metadata": {
    "colab": {
      "name": "欢迎使用 Colaboratory",
      "provenance": []
    },
    "kernelspec": {
      "display_name": "Python 3",
      "name": "python3"
    }
  },
  "nbformat": 4,
  "nbformat_minor": 0
}